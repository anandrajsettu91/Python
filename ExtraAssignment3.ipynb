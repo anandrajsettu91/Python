{
 "cells": [
  {
   "cell_type": "code",
   "execution_count": 1,
   "id": "92a9433b-9e99-4972-bef9-e6fc079e2ba6",
   "metadata": {},
   "outputs": [],
   "source": [
    "#print correct if i==10"
   ]
  },
  {
   "cell_type": "code",
   "execution_count": 3,
   "id": "70dee8d7-1ebe-4bf9-8154-e654d3abb75d",
   "metadata": {},
   "outputs": [
    {
     "name": "stdin",
     "output_type": "stream",
     "text": [
      "Value: 10\n"
     ]
    },
    {
     "name": "stdout",
     "output_type": "stream",
     "text": [
      "Correct\n"
     ]
    }
   ],
   "source": [
    "num=int(input(\"Value:\"))\n",
    "if (num==10):\n",
    "    print(\"Correct\")\n",
    "else:\n",
    "    print(\"incorrect\")"
   ]
  },
  {
   "cell_type": "code",
   "execution_count": 4,
   "id": "02a5a8aa-e08d-472a-9cd2-94db96e7a99f",
   "metadata": {},
   "outputs": [],
   "source": [
    "#check password using if else"
   ]
  },
  {
   "cell_type": "code",
   "execution_count": 7,
   "id": "d8a6b81a-3db3-4304-8e1f-6bd494e6a9e0",
   "metadata": {},
   "outputs": [
    {
     "name": "stdin",
     "output_type": "stream",
     "text": [
      "Enter your password: HOPE@123\n"
     ]
    },
    {
     "name": "stdout",
     "output_type": "stream",
     "text": [
      "Your password is correct\n"
     ]
    }
   ],
   "source": [
    "pwd=input(\"Enter your password:\")\n",
    "if (pwd==\"HOPE@123\"):\n",
    "    print(\"Your password is correct\")\n",
    "else:\n",
    "    print(\"Your password is incorrect\")"
   ]
  },
  {
   "cell_type": "code",
   "execution_count": 8,
   "id": "babb0cba-b72b-48f0-94f7-0c0eb8506e8f",
   "metadata": {},
   "outputs": [],
   "source": [
    "#categorize the people by their age as child, adult, citizen, senior citizen"
   ]
  },
  {
   "cell_type": "code",
   "execution_count": 13,
   "id": "fd691635-e8b8-4262-af02-57c3040ba87c",
   "metadata": {},
   "outputs": [
    {
     "name": "stdin",
     "output_type": "stream",
     "text": [
      "age: 20\n"
     ]
    },
    {
     "name": "stdout",
     "output_type": "stream",
     "text": [
      "Adult\n"
     ]
    }
   ],
   "source": [
    "age=int(input(\"age:\"))\n",
    "if(age<18):\n",
    "    print(\"Child\")\n",
    "elif(age<30):\n",
    "    print(\"Adult\")\n",
    "elif(age<60):\n",
    "    print(\"Citizen\")\n",
    "else:\n",
    "    print(\"senior Citizen\")"
   ]
  },
  {
   "cell_type": "code",
   "execution_count": 14,
   "id": "4d040e8b-20cf-4dab-8810-61e052e4d80a",
   "metadata": {},
   "outputs": [],
   "source": [
    "#find whether given number is positive or negative"
   ]
  },
  {
   "cell_type": "code",
   "execution_count": 17,
   "id": "934ef25c-940b-4444-a901-d2036b23693e",
   "metadata": {},
   "outputs": [
    {
     "name": "stdin",
     "output_type": "stream",
     "text": [
      "Enter any number: 1\n"
     ]
    },
    {
     "name": "stdout",
     "output_type": "stream",
     "text": [
      "Num is positive\n"
     ]
    }
   ],
   "source": [
    "num=int(input(\"Enter any number:\"))\n",
    "if(num>0):\n",
    "    print(\"Num is positive\")\n",
    "elif(num==0):\n",
    "    print(\"Num is zero\")\n",
    "else:\n",
    "    print(\"Num is negative\")"
   ]
  },
  {
   "cell_type": "code",
   "execution_count": 18,
   "id": "2f2cdf21-1389-435d-8361-665586c7707c",
   "metadata": {},
   "outputs": [],
   "source": [
    "#check whether the given number is divisible by 5"
   ]
  },
  {
   "cell_type": "code",
   "execution_count": null,
   "id": "0d047143-1c4f-40e9-a97d-758528adcabb",
   "metadata": {},
   "outputs": [],
   "source": [
    "num=int(input(\"Enter any number:\"))\n",
    "if((num%5)==0):\n",
    "    print(\"Num is divisible by 5\")\n",
    "else:\n",
    "    print(\"Num is not divisible\")"
   ]
  }
 ],
 "metadata": {
  "kernelspec": {
   "display_name": "Python 3 (ipykernel)",
   "language": "python",
   "name": "python3"
  },
  "language_info": {
   "codemirror_mode": {
    "name": "ipython",
    "version": 3
   },
   "file_extension": ".py",
   "mimetype": "text/x-python",
   "name": "python",
   "nbconvert_exporter": "python",
   "pygments_lexer": "ipython3",
   "version": "3.13.5"
  }
 },
 "nbformat": 4,
 "nbformat_minor": 5
}
