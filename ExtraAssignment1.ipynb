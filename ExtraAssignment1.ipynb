{
 "cells": [
  {
   "cell_type": "code",
   "execution_count": 1,
   "id": "27475daa-bdae-448f-9f48-6a1a940474f5",
   "metadata": {},
   "outputs": [],
   "source": [
    "#print statement"
   ]
  },
  {
   "cell_type": "code",
   "execution_count": 2,
   "id": "afcab64b-6273-4804-9a7f-a465cc025866",
   "metadata": {},
   "outputs": [
    {
     "name": "stdout",
     "output_type": "stream",
     "text": [
      "HOPE AI\n"
     ]
    }
   ],
   "source": [
    "print(\"HOPE AI\")"
   ]
  },
  {
   "cell_type": "code",
   "execution_count": 3,
   "id": "c26e9a59-9b58-45e4-883e-59fc8c699bcb",
   "metadata": {},
   "outputs": [],
   "source": [
    "#get input"
   ]
  },
  {
   "cell_type": "code",
   "execution_count": 4,
   "id": "167b9c14-f852-4b99-980c-b4cbb50f1523",
   "metadata": {},
   "outputs": [
    {
     "name": "stdin",
     "output_type": "stream",
     "text": [
      "Enter your institute name: HOPE AI\n"
     ]
    }
   ],
   "source": [
    "insname=input(\"Enter your institute name:\")"
   ]
  },
  {
   "cell_type": "code",
   "execution_count": 5,
   "id": "afa04c76-b3aa-4659-b0bc-6e07bbf96a0a",
   "metadata": {},
   "outputs": [],
   "source": [
    "#get inputs"
   ]
  },
  {
   "cell_type": "code",
   "execution_count": 6,
   "id": "a2da4a92-23d2-4fbe-8959-7482dad14c0e",
   "metadata": {},
   "outputs": [
    {
     "name": "stdin",
     "output_type": "stream",
     "text": [
      "Enter your name: Raj\n",
      "Enter your age: 15\n",
      "Enter your school name: Guru School\n",
      "Enter your degree: BE CSE\n"
     ]
    }
   ],
   "source": [
    "name=input(\"Enter your name:\")\n",
    "age=int(input(\"Enter your age:\"))\n",
    "sname=input(\"Enter your school name:\")\n",
    "degree=input(\"Enter your degree:\")"
   ]
  },
  {
   "cell_type": "code",
   "execution_count": 7,
   "id": "8d7cab7d-805e-4327-b362-a19339b05182",
   "metadata": {},
   "outputs": [],
   "source": [
    "#Addition"
   ]
  },
  {
   "cell_type": "code",
   "execution_count": 8,
   "id": "4e67ad6e-27b0-45d9-b611-a6246ed0c150",
   "metadata": {},
   "outputs": [
    {
     "name": "stdout",
     "output_type": "stream",
     "text": [
      "a= 43\n",
      "b= 34\n",
      "add= 77\n"
     ]
    }
   ],
   "source": [
    "a=43\n",
    "b=34\n",
    "add=a+b\n",
    "print(\"a=\",a)\n",
    "print(\"b=\",b)\n",
    "print(\"add=\",add)"
   ]
  },
  {
   "cell_type": "code",
   "execution_count": null,
   "id": "abbb45fe-02fa-4d41-9dc6-589726b134ca",
   "metadata": {},
   "outputs": [],
   "source": [
    "#Subtraction"
   ]
  },
  {
   "cell_type": "code",
   "execution_count": 9,
   "id": "80f1222b-4e1e-44d7-b171-a29b6e57e03c",
   "metadata": {},
   "outputs": [
    {
     "name": "stdout",
     "output_type": "stream",
     "text": [
      "a= 43\n",
      "b= 34\n",
      "sub= 9\n"
     ]
    }
   ],
   "source": [
    "sub=a-b\n",
    "print(\"a=\",a)\n",
    "print(\"b=\",b)\n",
    "print(\"sub=\",sub)"
   ]
  },
  {
   "cell_type": "code",
   "execution_count": null,
   "id": "d9a3db09-3176-4018-959d-15bb93559de8",
   "metadata": {},
   "outputs": [],
   "source": [
    "#Multiplication"
   ]
  },
  {
   "cell_type": "code",
   "execution_count": 10,
   "id": "a9bf3926-d11e-4e56-bf03-775f2f32ce4d",
   "metadata": {},
   "outputs": [
    {
     "name": "stdout",
     "output_type": "stream",
     "text": [
      "a= 63\n",
      "b= 97\n",
      "mul= 6111\n"
     ]
    }
   ],
   "source": [
    "a1=63\n",
    "b1=97\n",
    "mul=a1*b1\n",
    "print(\"a=\",a1)\n",
    "print(\"b=\",b1)\n",
    "print(\"mul=\",mul)"
   ]
  },
  {
   "cell_type": "code",
   "execution_count": 11,
   "id": "36347e0f-1bfc-4f14-8173-d083bdef28da",
   "metadata": {},
   "outputs": [],
   "source": [
    "#Division"
   ]
  },
  {
   "cell_type": "code",
   "execution_count": 17,
   "id": "b3506aa9-29dd-4ad3-907b-cd1db604ff3d",
   "metadata": {},
   "outputs": [
    {
     "name": "stdout",
     "output_type": "stream",
     "text": [
      "a= 63\n",
      "b= 97\n",
      "float Div= 0.6494845360824743\n"
     ]
    }
   ],
   "source": [
    "a1=63\n",
    "b1=97\n",
    "div=a1/b1\n",
    "print(\"a=\",a1)\n",
    "print(\"b=\",b1)\n",
    "print(\"float Div=\",div)"
   ]
  },
  {
   "cell_type": "code",
   "execution_count": 13,
   "id": "1a398f66-2de1-4c59-9af5-22a7521d2511",
   "metadata": {},
   "outputs": [],
   "source": [
    "#Floor Division"
   ]
  },
  {
   "cell_type": "code",
   "execution_count": 16,
   "id": "071112ff-a01d-4018-9042-4bd5967b9592",
   "metadata": {},
   "outputs": [
    {
     "name": "stdout",
     "output_type": "stream",
     "text": [
      "a= 76\n",
      "b= 31\n",
      "floor Div= 2\n"
     ]
    }
   ],
   "source": [
    "a1=76\n",
    "b1=31\n",
    "div1=int(a1/b1)\n",
    "print(\"a=\",a1)\n",
    "print(\"b=\",b1)\n",
    "print(\"floor Div=\",div1)"
   ]
  },
  {
   "cell_type": "code",
   "execution_count": 18,
   "id": "d2f4d07e-7ed0-4b00-a299-246719ad0be6",
   "metadata": {},
   "outputs": [],
   "source": [
    "#Modulo Division"
   ]
  },
  {
   "cell_type": "code",
   "execution_count": 20,
   "id": "8fcfd212-d8c6-4b6c-ac4b-6edbe554a827",
   "metadata": {},
   "outputs": [
    {
     "name": "stdout",
     "output_type": "stream",
     "text": [
      "a= 76\n",
      "b= 31\n",
      "Modulo= 14\n"
     ]
    }
   ],
   "source": [
    "a1=76\n",
    "b1=31\n",
    "div2=a1%b1\n",
    "print(\"a=\",a1)\n",
    "print(\"b=\",b1)\n",
    "print(\"Modulo=\",div2)"
   ]
  },
  {
   "cell_type": "code",
   "execution_count": 21,
   "id": "737c1075-ee8d-4730-a324-8b47515e8db8",
   "metadata": {},
   "outputs": [],
   "source": [
    "#Power Multiplication"
   ]
  },
  {
   "cell_type": "code",
   "execution_count": 22,
   "id": "f55b6152-cb03-4899-9155-971e8d37b8f4",
   "metadata": {},
   "outputs": [
    {
     "name": "stdout",
     "output_type": "stream",
     "text": [
      "a= 4\n",
      "b= 4\n",
      "Power= 0\n"
     ]
    }
   ],
   "source": [
    "a1=4\n",
    "b1=4\n",
    "power=a1^b1\n",
    "print(\"a=\",a1)\n",
    "print(\"b=\",b1)\n",
    "print(\"Power=\",power)"
   ]
  },
  {
   "cell_type": "code",
   "execution_count": null,
   "id": "bfba6da6-b04e-42eb-9a9b-9558fa6b0113",
   "metadata": {},
   "outputs": [],
   "source": []
  }
 ],
 "metadata": {
  "kernelspec": {
   "display_name": "Python 3 (ipykernel)",
   "language": "python",
   "name": "python3"
  },
  "language_info": {
   "codemirror_mode": {
    "name": "ipython",
    "version": 3
   },
   "file_extension": ".py",
   "mimetype": "text/x-python",
   "name": "python",
   "nbconvert_exporter": "python",
   "pygments_lexer": "ipython3",
   "version": "3.13.5"
  }
 },
 "nbformat": 4,
 "nbformat_minor": 5
}
