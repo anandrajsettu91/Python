{
 "cells": [
  {
   "cell_type": "code",
   "execution_count": 1,
   "id": "74e047a0-6468-485e-88d2-1c9bf657aef4",
   "metadata": {},
   "outputs": [],
   "source": [
    "# 0 to 20 by using range"
   ]
  },
  {
   "cell_type": "code",
   "execution_count": 3,
   "id": "c8f3da5f-c8a7-4647-b5bc-253e32b30cf4",
   "metadata": {},
   "outputs": [
    {
     "name": "stdout",
     "output_type": "stream",
     "text": [
      "0\n",
      "1\n",
      "2\n",
      "3\n",
      "4\n",
      "5\n",
      "6\n",
      "7\n",
      "8\n",
      "9\n",
      "10\n",
      "11\n",
      "12\n",
      "13\n",
      "14\n",
      "15\n",
      "16\n",
      "17\n",
      "18\n",
      "19\n"
     ]
    }
   ],
   "source": [
    "for num in range(0,20):\n",
    "    print(num)"
   ]
  },
  {
   "cell_type": "code",
   "execution_count": 4,
   "id": "62a6c19f-1ab4-482c-89c7-73e5dface776",
   "metadata": {},
   "outputs": [],
   "source": [
    "#print range 10 to 20"
   ]
  },
  {
   "cell_type": "code",
   "execution_count": 5,
   "id": "17e7eab9-633b-46bf-93ee-bc8b786a3cd9",
   "metadata": {},
   "outputs": [
    {
     "name": "stdout",
     "output_type": "stream",
     "text": [
      "10\n",
      "11\n",
      "12\n",
      "13\n",
      "14\n",
      "15\n",
      "16\n",
      "17\n",
      "18\n",
      "19\n"
     ]
    }
   ],
   "source": [
    "for num in range(10,20):\n",
    "    print(num)"
   ]
  },
  {
   "cell_type": "code",
   "execution_count": 6,
   "id": "0b60bd6e-d531-4313-926c-989911c30c2f",
   "metadata": {},
   "outputs": [],
   "source": [
    "#print number of items in the list using 'len'"
   ]
  },
  {
   "cell_type": "code",
   "execution_count": 8,
   "id": "c3974acf-c049-4690-b76b-4e49ca911145",
   "metadata": {},
   "outputs": [
    {
     "name": "stdout",
     "output_type": "stream",
     "text": [
      "Number of items in the list: 7\n"
     ]
    }
   ],
   "source": [
    "list=[10, 20, 14, 55, 43, 87, 76]\n",
    "print(\"Number of items in the list:\",len(list))"
   ]
  },
  {
   "cell_type": "code",
   "execution_count": 9,
   "id": "61043860-e814-4b98-88fe-49acffbab0a0",
   "metadata": {},
   "outputs": [],
   "source": [
    "#print string char by char"
   ]
  },
  {
   "cell_type": "code",
   "execution_count": 13,
   "id": "cac59a66-f0ef-4ae3-b419-f0f4866e1504",
   "metadata": {},
   "outputs": [
    {
     "name": "stdout",
     "output_type": "stream",
     "text": [
      "Artificial Intelligence\n",
      "A\n",
      "r\n",
      "t\n",
      "i\n",
      "f\n",
      "i\n",
      "c\n",
      "i\n",
      "a\n",
      "l\n",
      " \n",
      "I\n",
      "n\n",
      "t\n",
      "e\n",
      "l\n",
      "l\n",
      "i\n",
      "g\n",
      "e\n",
      "n\n",
      "c\n",
      "e\n"
     ]
    }
   ],
   "source": [
    "string='Artificial Intelligence'\n",
    "print(string)\n",
    "for char in string:\n",
    "    print(char)"
   ]
  },
  {
   "cell_type": "code",
   "execution_count": 14,
   "id": "87191a48-710b-4e8b-85a5-4af5703a4712",
   "metadata": {},
   "outputs": [],
   "source": [
    "#print multiple statements"
   ]
  },
  {
   "cell_type": "code",
   "execution_count": 15,
   "id": "f3000c35-72de-49e3-b51f-2db25a8ca2ee",
   "metadata": {},
   "outputs": [
    {
     "name": "stdout",
     "output_type": "stream",
     "text": [
      "-Your Name-\n",
      "-Your Age-\n",
      "-Your Profession-\n"
     ]
    }
   ],
   "source": [
    "print(\"-Your Name-\")\n",
    "print(\"-Your Age-\")\n",
    "print(\"-Your Profession-\")"
   ]
  },
  {
   "cell_type": "code",
   "execution_count": 16,
   "id": "d0aafcd7-ec70-48c6-993e-37ea48b5066b",
   "metadata": {},
   "outputs": [],
   "source": [
    "#print this mixed datatypes using Tuples"
   ]
  },
  {
   "cell_type": "code",
   "execution_count": 26,
   "id": "a59f426a-cda9-47aa-8bb4-12a255a0a04f",
   "metadata": {},
   "outputs": [
    {
     "name": "stdout",
     "output_type": "stream",
     "text": [
      "(1, 'Welcome', 2, 'Hope')\n"
     ]
    }
   ],
   "source": [
    "tup=(1, 'Welcome', 2, 'Hope')\n",
    "print(tup)"
   ]
  },
  {
   "cell_type": "code",
   "execution_count": null,
   "id": "9bd3a236-bec8-41da-90de-b45a9ae62b44",
   "metadata": {},
   "outputs": [],
   "source": [
    "#tuple concatenation"
   ]
  },
  {
   "cell_type": "code",
   "execution_count": 34,
   "id": "4b99e77b-0b45-46b6-9140-3ce1b2261af8",
   "metadata": {},
   "outputs": [
    {
     "name": "stdout",
     "output_type": "stream",
     "text": [
      "((0, 1, 2, 3), ('python', 'HOPE'))\n"
     ]
    }
   ],
   "source": [
    "tup1=(0, 1, 2, 3)\n",
    "tup2=('python', 'HOPE')\n",
    "tup3=(tup1,tup2)\n",
    "print(tup3)"
   ]
  },
  {
   "cell_type": "code",
   "execution_count": 27,
   "id": "6107a098-d2c9-41d7-a4a1-82a7f3771118",
   "metadata": {},
   "outputs": [],
   "source": [
    "#print odd numbers in list"
   ]
  },
  {
   "cell_type": "code",
   "execution_count": 32,
   "id": "189d8f1e-37ab-4876-a966-1d6a50ac3b3f",
   "metadata": {},
   "outputs": [
    {
     "name": "stdout",
     "output_type": "stream",
     "text": [
      "(20, 10, 16, 19, 25, 1, 276, 188)\n",
      "19  is odd\n",
      "25  is odd\n",
      "1  is odd\n"
     ]
    }
   ],
   "source": [
    "list1=(20,10,16,19,25,1,276,188)\n",
    "print(list1)\n",
    "for temp in list1:\n",
    "   if  (temp%2!=0):\n",
    "        print(temp,\" is odd\")"
   ]
  },
  {
   "cell_type": "code",
   "execution_count": 33,
   "id": "52f96bff-362b-430a-be93-c413cac45e29",
   "metadata": {},
   "outputs": [
    {
     "name": "stdout",
     "output_type": "stream",
     "text": [
      "(20, 10, 16, 19, 25, 1, 276, 188)\n",
      "20  is even\n",
      "10  is even\n",
      "16  is even\n",
      "276  is even\n",
      "188  is even\n"
     ]
    }
   ],
   "source": [
    "list1=(20,10,16,19,25,1,276,188)\n",
    "print(list1)\n",
    "for temp in list1:\n",
    "   if  (temp%2==0):\n",
    "        print(temp,\" is even\")"
   ]
  },
  {
   "cell_type": "code",
   "execution_count": null,
   "id": "ce3eceb7-22de-441c-98a8-2323ec64a8ff",
   "metadata": {},
   "outputs": [],
   "source": []
  }
 ],
 "metadata": {
  "kernelspec": {
   "display_name": "Python 3 (ipykernel)",
   "language": "python",
   "name": "python3"
  },
  "language_info": {
   "codemirror_mode": {
    "name": "ipython",
    "version": 3
   },
   "file_extension": ".py",
   "mimetype": "text/x-python",
   "name": "python",
   "nbconvert_exporter": "python",
   "pygments_lexer": "ipython3",
   "version": "3.13.5"
  }
 },
 "nbformat": 4,
 "nbformat_minor": 5
}
