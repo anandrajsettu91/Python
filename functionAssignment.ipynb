{
 "cells": [
  {
   "cell_type": "code",
   "execution_count": 1,
   "id": "a5a6ba1c-6c49-4f2c-80f7-aa3a3cf3eb97",
   "metadata": {},
   "outputs": [],
   "source": [
    "#create function"
   ]
  },
  {
   "cell_type": "code",
   "execution_count": 20,
   "id": "ceb6f901-28dc-4789-b4bd-769b7d649350",
   "metadata": {},
   "outputs": [],
   "source": [
    "def SubfieldsInAI():\n",
    "    print(\"Sub-fields in AI are:\")\n",
    "    list1=[\"Machine Learning\",\"Neural Networks\",\"Vision\",\"Robotics\",\"Speech Processing\",\"Natural Language Processing\"]\n",
    "    for temp in list1:\n",
    "        print(temp)\n",
    "        value=temp\n",
    "    return value"
   ]
  },
  {
   "cell_type": "code",
   "execution_count": 21,
   "id": "8a0cc274-d81e-4848-aa4b-e3ca3c7afbaf",
   "metadata": {},
   "outputs": [
    {
     "name": "stdout",
     "output_type": "stream",
     "text": [
      "Sub-fields in AI are:\n",
      "Machine Learning\n",
      "Neural Networks\n",
      "Vision\n",
      "Robotics\n",
      "Speech Processing\n",
      "Natural Language Processing\n"
     ]
    }
   ],
   "source": [
    "subfields=SubfieldsInAI()"
   ]
  },
  {
   "cell_type": "code",
   "execution_count": 9,
   "id": "2a413a4a-f276-4a9b-b56b-fc0208e6791e",
   "metadata": {},
   "outputs": [],
   "source": [
    "#create a function that checks the given number is odd or even"
   ]
  },
  {
   "cell_type": "code",
   "execution_count": 26,
   "id": "4c98ac67-bf4f-426d-8d6f-d4ab34c4535e",
   "metadata": {},
   "outputs": [],
   "source": [
    "def oddEven():\n",
    "    num=int(input(\"Enter a number:\"))\n",
    "    if(num%2==0):\n",
    "        print(num,\" is even number\")\n",
    "        value=(num,\" is even number\")\n",
    "    else:\n",
    "        print(num,\" is odd number\")\n",
    "        value=(num,\" is odd number\")\n",
    "    return value"
   ]
  },
  {
   "cell_type": "code",
   "execution_count": 28,
   "id": "bc764af5-81ad-495a-9deb-7381fa459897",
   "metadata": {},
   "outputs": [
    {
     "name": "stdin",
     "output_type": "stream",
     "text": [
      "Enter a number: 52452\n"
     ]
    },
    {
     "name": "stdout",
     "output_type": "stream",
     "text": [
      "52452  is even number\n"
     ]
    }
   ],
   "source": [
    "value=oddEven()"
   ]
  },
  {
   "cell_type": "code",
   "execution_count": 29,
   "id": "06c2a3ae-3359-4b0a-a988-2f3b1d92ad58",
   "metadata": {},
   "outputs": [],
   "source": [
    "#create a function to tell elegibility of marriage for male and female according to their age limit like 21 for male and 18 for female"
   ]
  },
  {
   "cell_type": "code",
   "execution_count": 32,
   "id": "7f150916-489a-4567-821a-593465b9b2e7",
   "metadata": {},
   "outputs": [],
   "source": [
    "def EligibilityForMarriage():\n",
    "    gender=input(\"Your Gender:\")\n",
    "    age=int(input(\"Your Age:\"))\n",
    "    if((gender==\"Male\") and (age>=21)):\n",
    "        print(\"Eligible for Marriage\")\n",
    "        message=(\"Eligible for Marriage\")\n",
    "    elif((gender==\"Female\") and (age>=18)):\n",
    "        print(\"Eligible for Marriage\")\n",
    "        message=(\"Eligible for Marriage\")\n",
    "    else:\n",
    "        print(\"Not Eligible for Marriage\")\n",
    "        message=(\"Not Eligible for Marriage\")\n",
    "    return message"
   ]
  },
  {
   "cell_type": "code",
   "execution_count": 37,
   "id": "ef3b2bd3-147d-4b55-bed3-fbf3fb1e8cc5",
   "metadata": {},
   "outputs": [
    {
     "name": "stdin",
     "output_type": "stream",
     "text": [
      "Your Gender: Male\n",
      "Your Age: 20\n"
     ]
    },
    {
     "name": "stdout",
     "output_type": "stream",
     "text": [
      "Not Eligible for Marriage\n"
     ]
    }
   ],
   "source": [
    "message=EligibilityForMarriage()"
   ]
  },
  {
   "cell_type": "code",
   "execution_count": 38,
   "id": "3879c4e6-1955-4662-9072-92cb05156cf7",
   "metadata": {},
   "outputs": [],
   "source": [
    "#calculate the percentage of your 10th mark"
   ]
  },
  {
   "cell_type": "code",
   "execution_count": 65,
   "id": "185d8f22-f52c-4864-ad92-cbd54d151991",
   "metadata": {},
   "outputs": [],
   "source": [
    "def percentageScored():\n",
    "    sub1=int(input(\"Subject1\"))\n",
    "    sub2=int(input(\"Subject2\"))\n",
    "    sub3=int(input(\"Subject3\"))\n",
    "    sub4=int(input(\"Subject4\"))\n",
    "    sub5=int(input(\"Subject5\"))\n",
    "    Total=sub1+sub2+sub3+sub4+sub5\n",
    "    print(\"Total:\",Total)\n",
    "    percent=float(Total*100/500)\n",
    "    print(\"Percentage:\",percent)\n",
    "    value=(\"Percentage:\",percent)\n",
    "    return value"
   ]
  },
  {
   "cell_type": "code",
   "execution_count": 66,
   "id": "810c0c65-80be-44a2-8c4c-06258eb61edf",
   "metadata": {},
   "outputs": [
    {
     "name": "stdin",
     "output_type": "stream",
     "text": [
      "Subject1 98\n",
      "Subject2 87\n",
      "Subject3 95\n",
      "Subject4 95\n",
      "Subject5 93\n"
     ]
    },
    {
     "name": "stdout",
     "output_type": "stream",
     "text": [
      "Total: 468\n",
      "Percentage: 93.6\n"
     ]
    }
   ],
   "source": [
    "value=percentageScored()"
   ]
  },
  {
   "cell_type": "code",
   "execution_count": 67,
   "id": "f421e486-0251-4d47-8970-76d5e2f90647",
   "metadata": {},
   "outputs": [],
   "source": [
    "#print area and perimeter of triangle"
   ]
  },
  {
   "cell_type": "code",
   "execution_count": 69,
   "id": "c3905901-0653-4da8-ba4e-c7ab0d497455",
   "metadata": {},
   "outputs": [],
   "source": [
    "def attributesOfTriangle():\n",
    "    height=int(input(\"Height:\"))\n",
    "    breath=int(input(\"Breath:\"))\n",
    "    print(\"Area formula: (Height*Breath)/2\")\n",
    "    area=height*breath/2\n",
    "    print(\"Area of Triangle:\",area)\n",
    "    h1=int(input(\"Height1:\"))\n",
    "    h2=int(input(\"Height2:\"))\n",
    "    b=int(input(\"Breath:\"))\n",
    "    print(\"Perimeter formula: Height1+Height2+Breath\")\n",
    "    perimeter=h1+h2+b\n",
    "    print(\"Perimeter of Triangle:\",perimeter)\n",
    "    return area\n",
    "    return perimeter"
   ]
  },
  {
   "cell_type": "code",
   "execution_count": 70,
   "id": "b2944053-5182-4d03-957d-1ad5d5a4929e",
   "metadata": {},
   "outputs": [
    {
     "name": "stdin",
     "output_type": "stream",
     "text": [
      "Height: 32\n",
      "Breath: 34\n"
     ]
    },
    {
     "name": "stdout",
     "output_type": "stream",
     "text": [
      "Area formula: (Height*Breath)/2\n",
      "Area of Triangle: 544.0\n"
     ]
    },
    {
     "name": "stdin",
     "output_type": "stream",
     "text": [
      "Height1: 2\n",
      "Height2: 4\n",
      "Breath: 4\n"
     ]
    },
    {
     "name": "stdout",
     "output_type": "stream",
     "text": [
      "Perimeter formula: Height1+Height2+Breath\n",
      "Perimeter of Triangle: 10\n"
     ]
    }
   ],
   "source": [
    "result=attributesOfTriangle()"
   ]
  },
  {
   "cell_type": "code",
   "execution_count": null,
   "id": "b0d649bd-30b8-4245-86e1-09475b4ddea1",
   "metadata": {},
   "outputs": [],
   "source": []
  }
 ],
 "metadata": {
  "kernelspec": {
   "display_name": "Python 3 (ipykernel)",
   "language": "python",
   "name": "python3"
  },
  "language_info": {
   "codemirror_mode": {
    "name": "ipython",
    "version": 3
   },
   "file_extension": ".py",
   "mimetype": "text/x-python",
   "name": "python",
   "nbconvert_exporter": "python",
   "pygments_lexer": "ipython3",
   "version": "3.13.5"
  }
 },
 "nbformat": 4,
 "nbformat_minor": 5
}
