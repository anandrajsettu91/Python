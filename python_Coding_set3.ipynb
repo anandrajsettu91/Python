{
 "cells": [
  {
   "cell_type": "code",
   "execution_count": 8,
   "id": "511e5dbe",
   "metadata": {
    "id": "511e5dbe"
   },
   "outputs": [
    {
     "name": "stdout",
     "output_type": "stream",
     "text": [
      "1\n",
      "4\n",
      "9\n",
      "16\n",
      "25\n"
     ]
    }
   ],
   "source": [
    "#1. Square of Numbers from 1 to 5\n",
    "#Output:\n",
    "#1 4 9 16 25\n",
    "def sqr(n):\n",
    "    return n*n\n",
    "list1=[1,2,3,4,5]\n",
    "for i in list1:\n",
    "    print(sqr(i))\n"
   ]
  },
  {
   "cell_type": "code",
   "execution_count": 9,
   "id": "e886abee",
   "metadata": {
    "id": "e886abee"
   },
   "outputs": [
    {
     "name": "stdout",
     "output_type": "stream",
     "text": [
      "10 5\n"
     ]
    }
   ],
   "source": [
    "#2.Swap Two Variables Without Using a Temporary Variable\n",
    "#Question: Write a Python program to swap two variables a = 5 and b = 10 without using a temporary variable.\n",
    "a=5\n",
    "b=10\n",
    "a=a+b\n",
    "b=a-b\n",
    "a=a-b\n",
    "print(a,b)\n"
   ]
  },
  {
   "cell_type": "code",
   "execution_count": 12,
   "id": "adfc0479",
   "metadata": {
    "id": "adfc0479"
   },
   "outputs": [
    {
     "name": "stdout",
     "output_type": "stream",
     "text": [
      "[12, 24, 40, 56]\n",
      "[17, 19, 35]\n"
     ]
    }
   ],
   "source": [
    " #3.Find Even and Odd Numbers in a List\n",
    "#Question: Write a Python program to separate even and odd numbers from the list [12, 17, 19, 24, 35, 40, 56].\n",
    "lst1=[12,17,19,24,35,40,56]\n",
    "lst2=[]\n",
    "lst3=[]\n",
    "for temp in lst1:\n",
    "    if temp%2==0:\n",
    "        lst2.append(temp)\n",
    "    else:\n",
    "        lst3.append(temp)\n",
    "print(lst2)\n",
    "print(lst3)"
   ]
  },
  {
   "cell_type": "code",
   "execution_count": 13,
   "id": "9bd0afd7",
   "metadata": {
    "id": "9bd0afd7"
   },
   "outputs": [
    {
     "name": "stdout",
     "output_type": "stream",
     "text": [
      "54321\n"
     ]
    }
   ],
   "source": [
    "#4. Reverse a Number\n",
    "#Question: Write a Python program to reverse the number 12345.\n",
    "x=12345\n",
    "s=str(x)\n",
    "rev_s=s[::-1]\n",
    "rev_x=int(rev_s)\n",
    "print(rev_x)\n"
   ]
  },
  {
   "cell_type": "code",
   "execution_count": 23,
   "id": "baf1f666",
   "metadata": {
    "id": "baf1f666"
   },
   "outputs": [
    {
     "name": "stdout",
     "output_type": "stream",
     "text": [
      "Second largest number in list is: 45\n"
     ]
    }
   ],
   "source": [
    "#5. Find the Second Largest Number in a List\n",
    "#Question: Write a Python program to find the second largest number in the list [12, 45, 98, 34, 23].\n",
    "list_in=[12,45,98,34,23]\n",
    "list_out=sorted(set(list_in))\n",
    "length=len(list_out)\n",
    "n=length-2\n",
    "print(\"Second largest number in list is:\", list_out[n])\n"
   ]
  },
  {
   "cell_type": "code",
   "execution_count": null,
   "id": "eb6e77d2",
   "metadata": {
    "id": "eb6e77d2"
   },
   "outputs": [],
   "source": []
  },
  {
   "cell_type": "code",
   "execution_count": null,
   "id": "cf27438f",
   "metadata": {
    "id": "cf27438f"
   },
   "outputs": [],
   "source": []
  },
  {
   "cell_type": "code",
   "execution_count": null,
   "id": "8a8e84b3",
   "metadata": {
    "id": "8a8e84b3"
   },
   "outputs": [],
   "source": []
  },
  {
   "cell_type": "code",
   "execution_count": null,
   "id": "a73f86c4",
   "metadata": {
    "id": "a73f86c4"
   },
   "outputs": [],
   "source": []
  }
 ],
 "metadata": {
  "colab": {
   "provenance": []
  },
  "kernelspec": {
   "display_name": "Python 3 (ipykernel)",
   "language": "python",
   "name": "python3"
  },
  "language_info": {
   "codemirror_mode": {
    "name": "ipython",
    "version": 3
   },
   "file_extension": ".py",
   "mimetype": "text/x-python",
   "name": "python",
   "nbconvert_exporter": "python",
   "pygments_lexer": "ipython3",
   "version": "3.13.5"
  }
 },
 "nbformat": 4,
 "nbformat_minor": 5
}
